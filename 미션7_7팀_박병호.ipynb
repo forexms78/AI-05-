{
  "nbformat": 4,
  "nbformat_minor": 0,
  "metadata": {
    "colab": {
      "provenance": [],
      "authorship_tag": "ABX9TyMJqE2G8KM08YdItGWz3wC6",
      "include_colab_link": true
    },
    "kernelspec": {
      "name": "python3",
      "display_name": "Python 3"
    },
    "language_info": {
      "name": "python"
    }
  },
  "cells": [
    {
      "cell_type": "markdown",
      "metadata": {
        "id": "view-in-github",
        "colab_type": "text"
      },
      "source": [
        "<a href=\"https://colab.research.google.com/github/forexms78/AI-05-/blob/main/%EB%AF%B8%EC%85%987_7%ED%8C%80_%EB%B0%95%EB%B3%91%ED%98%B8.ipynb\" target=\"_parent\"><img src=\"https://colab.research.google.com/assets/colab-badge.svg\" alt=\"Open In Colab\"/></a>"
      ]
    },
    {
      "cell_type": "code",
      "execution_count": 1,
      "metadata": {
        "colab": {
          "base_uri": "https://localhost:8080/"
        },
        "id": "iF_6zRnJBofV",
        "outputId": "291de706-5616-422f-df3a-6d41eed54670"
      },
      "outputs": [
        {
          "output_type": "stream",
          "name": "stdout",
          "text": [
            "🌐 https://c0z0c.github.io/jupyter_hangul\n",
            "ℹ️ NumPy 2.0.2 (v2.x+): 호환성 모드 적용됨\n",
            "install fonts-nanum...\n",
            "Mounted at /content/drive\n",
            "✅ 설정 완료: 한글 폰트, plt 전역 등록, pandas 확장, 캐시 기능\n",
            "pd commit 저장 경로 = /content/drive/MyDrive\n"
          ]
        }
      ],
      "source": [
        "from urllib.request import urlretrieve; urlretrieve(\"https://raw.githubusercontent.com/c0z0c/jupyter_hangul/refs/heads/beta/helper_c0z0c_dev.py\", \"helper_c0z0c_dev.py\")\n",
        "import helper_c0z0c_dev as helper"
      ]
    },
    {
      "cell_type": "code",
      "source": [
        "# @title 데이터셋 다운로드\n",
        "\n",
        "import kagglehub\n",
        "dataset_identifier = \"zippyz/cats-and-dogs-breeds-classification-oxford-dataset\"\n",
        "\n",
        "path = kagglehub.dataset_download(dataset_identifier)\n",
        "\n",
        "print(path)"
      ],
      "metadata": {
        "colab": {
          "base_uri": "https://localhost:8080/"
        },
        "id": "GEPXE450ChEs",
        "outputId": "7bf34d10-b22b-45ec-81e3-3e7b297c901d"
      },
      "execution_count": 2,
      "outputs": [
        {
          "output_type": "stream",
          "name": "stdout",
          "text": [
            "Using Colab cache for faster access to the 'cats-and-dogs-breeds-classification-oxford-dataset' dataset.\n",
            "/kaggle/input/cats-and-dogs-breeds-classification-oxford-dataset\n"
          ]
        }
      ]
    },
    {
      "cell_type": "code",
      "source": [
        "# @title device 설정\n",
        "\n",
        "import torch\n",
        "import os\n",
        "import pandas as pd\n",
        "\n",
        "device = torch.device(\"cuda\" if torch.cuda.is_available() else \"cpu\")"
      ],
      "metadata": {
        "id": "gYHCLRjFHOTO"
      },
      "execution_count": 3,
      "outputs": []
    },
    {
      "cell_type": "code",
      "source": [
        "# @title 데이터셋 경로 설정\n",
        "\n",
        "trainval_file_path = os.path.join(path, \"annotations\", \"annotations\", \"trainval.txt\")\n",
        "test_file_path = os.path.join(path, \"annotations\", \"annotations\", \"test.txt\")\n",
        "\n",
        "image_dir = os.path.join(path, \"images\", \"images\")\n",
        "xml_dir = os.path.join(path, \"annotations\", \"annotations\", \"xmls\")"
      ],
      "metadata": {
        "id": "Ka86lTKMHcnn"
      },
      "execution_count": 4,
      "outputs": []
    },
    {
      "cell_type": "code",
      "source": [
        "# @title  trainval.txt 및 test.txt 파일 로드\n",
        "\n",
        "df_trainval = pd.read_csv(trainval_file_path, sep=\"\\\\s+\", header=None)\n",
        "df_trainval.columns = [\"Image\", \"ClassID\", \"Species\", \"BreedID\"]\n",
        "\n",
        "df_test = pd.read_csv(test_file_path, sep=\"\\\\s+\", header=None)\n",
        "df_test.columns = [\"Image\", \"ClassID\", \"Species\", \"BreedID\"]\n",
        "\n",
        "print(f\"Train/Validation 데이터 수: {len(df_trainval)}개\")\n",
        "print(f\"Test 데이터 수: {len(df_test)}개\")\n",
        "print(df_trainval.head())"
      ],
      "metadata": {
        "colab": {
          "base_uri": "https://localhost:8080/"
        },
        "id": "Inlf0KXbHg93",
        "outputId": "e163a64d-e2fe-4927-f865-cac632287e21"
      },
      "execution_count": 5,
      "outputs": [
        {
          "output_type": "stream",
          "name": "stdout",
          "text": [
            "Train/Validation 데이터 수: 3680개\n",
            "Test 데이터 수: 3669개\n",
            "            Image  ClassID  Species  BreedID\n",
            "0  Abyssinian_100        1        1        1\n",
            "1  Abyssinian_101        1        1        1\n",
            "2  Abyssinian_102        1        1        1\n",
            "3  Abyssinian_103        1        1        1\n",
            "4  Abyssinian_104        1        1        1\n"
          ]
        }
      ]
    },
    {
      "cell_type": "code",
      "source": [
        "# @title 데이터 불균형 확인\n",
        "print(df_trainval['Species'].value_counts())"
      ],
      "metadata": {
        "colab": {
          "base_uri": "https://localhost:8080/"
        },
        "id": "nXtbiUz6HsEj",
        "outputId": "d0b32008-7b54-4223-8938-cb28023864cc"
      },
      "execution_count": 7,
      "outputs": [
        {
          "output_type": "stream",
          "name": "stdout",
          "text": [
            "Species\n",
            "2    2492\n",
            "1    1188\n",
            "Name: count, dtype: int64\n"
          ]
        }
      ]
    },
    {
      "cell_type": "code",
      "source": [
        "# @title XML 파일 파싱 함수\n",
        "\n",
        "import xml.etree.ElementTree as ET\n",
        "\n",
        "classes = [\"background\", \"cat\", \"dog\"]\n",
        "num_classes = len(classes)\n",
        "\n",
        "def parse_xml(xml_path: str, species_id: int):\n",
        "\n",
        "    tree = ET.parse(xml_path)\n",
        "    root = tree.getroot()\n",
        "\n",
        "    boxes = []\n",
        "    labels = [] #\n",
        "\n",
        "    for obj in root.findall('object'):\n",
        "\n",
        "\n",
        "        if obj.find('name').text == 'face':\n",
        "            bndbox = obj.find('bndbox')\n",
        "\n",
        "            xmin = int(bndbox.find('xmin').text)\n",
        "            ymin = int(bndbox.find('ymin').text)\n",
        "            xmax = int(bndbox.find('xmax').text)\n",
        "            ymax = int(bndbox.find('ymax').text)\n",
        "\n",
        "            boxes.append([xmin, ymin, xmax, ymax])\n",
        "\n",
        "\n",
        "            labels.append(species_id)\n",
        "\n",
        "    return boxes, labels"
      ],
      "metadata": {
        "id": "i6UYQGpfH6Qk"
      },
      "execution_count": 30,
      "outputs": []
    },
    {
      "cell_type": "code",
      "source": [
        "# @title XML 파싱 함수 테스트 실행\n",
        "\n",
        "import os\n",
        "import pandas as pd\n",
        "\n",
        "first_row = df_trainval.iloc[0]\n",
        "image_name = first_row['Image']\n",
        "species_id = first_row['Species']\n",
        "\n",
        "xml_file_name = image_name + '.xml'\n",
        "test_xml_path = os.path.join(xml_dir, xml_file_name)\n",
        "\n",
        "\n",
        "test_boxes, test_labels = parse_xml(test_xml_path, species_id)\n",
        "\n",
        "print(f\"파싱 결과\")\n",
        "print(f\"{image_name}.jpg\")\n",
        "print(f\"종(Species ID){species_id} ({CLASSES[species_id]})\")\n",
        "print(f\"추출된 바인딩 박스{test_boxes}\")\n",
        "print(f\"추출된 레이블{test_labels}\")"
      ],
      "metadata": {
        "colab": {
          "base_uri": "https://localhost:8080/"
        },
        "id": "9K9wiSkyIWin",
        "outputId": "525f7e01-13fd-475c-9962-f3374de04cbb"
      },
      "execution_count": 32,
      "outputs": [
        {
          "output_type": "stream",
          "name": "stdout",
          "text": [
            "파싱 결과\n",
            "Abyssinian_100.jpg\n",
            "종(Species ID)1 (cat)\n",
            "추출된 바인딩 박스[]\n",
            "추출된 레이블[]\n"
          ]
        }
      ]
    },
    {
      "cell_type": "code",
      "source": [
        "# @title 파이토치 데이터셋 클래스 정의\n",
        "\n",
        "from torch.utils.data import Dataset\n",
        "import cv2\n",
        "import numpy as np\n",
        "\n",
        "class PetFaceDetectionDataset(Dataset):\n",
        "\n",
        "    def __init__(self, df, image_dir, xml_dir, species_map, transform=None):\n",
        "        self.df = df\n",
        "        self.image_dir = image_dir\n",
        "        self.xml_dir = xml_dir\n",
        "        self.species_map = species_map\n",
        "        self.transform = transform\n",
        "\n",
        "    def __len__(self):\n",
        "        return len(self.df)\n",
        "\n",
        "    def __getitem__(self, idx):\n",
        "        row = self.df.iloc[idx]\n",
        "        image_name = row['Image']\n",
        "        species_id = row['Species']\n",
        "\n",
        "        image_path = os.path.join(self.image_dir, image_name + '.jpg')\n",
        "        image = cv2.imread(image_path, cv2.IMREAD_COLOR)\n",
        "        image = cv2.cvtColor(image, cv2.COLOR_BGR2RGB)\n",
        "\n",
        "        xml_file_name = image_name + '.xml'\n",
        "        xml_path = os.path.join(self.xml_dir, xml_file_name)\n",
        "\n",
        "        boxes_list, labels_list = parse_xml(xml_path, self.species_map.get(species_id))\n",
        "\n",
        "        if not boxes_list:\n",
        "             boxes = torch.zeros((0, 4), dtype=torch.float32)\n",
        "             labels = torch.zeros((0,), dtype=torch.int64)\n",
        "             image = np.zeros((224, 224, 3), dtype=np.uint8)\n",
        "        else:\n",
        "            boxes = torch.as_tensor(boxes_list, dtype=torch.float32)\n",
        "            labels = torch.as_tensor(labels_list, dtype=torch.int64)\n",
        "\n",
        "        if self.transform:\n",
        "            image, boxes, labels = self.transform(image, boxes, labels)\n",
        "\n",
        "        image = image.transpose((2, 0, 1)).astype(np.float32) / 255.0\n",
        "        image = torch.as_tensor(image)\n",
        "\n",
        "        target = {}\n",
        "        target[\"boxes\"] = boxes\n",
        "        target[\"labels\"] = labels\n",
        "\n",
        "        return image, target, image_name + '.jpg'"
      ],
      "metadata": {
        "id": "Nlrz8k_9KKoZ"
      },
      "execution_count": 33,
      "outputs": []
    },
    {
      "cell_type": "code",
      "source": [
        "# @title 데이터셋 매핑 정보 정의\n",
        "\n",
        "SPECIES_TO_LABEL = {\n",
        "    1: 1,\n",
        "    2: 2\n",
        "}\n",
        "\n",
        "pet_dataset = PetFaceDetectionDataset(\n",
        "    df=df_trainval,\n",
        "    image_dir=image_dir,\n",
        "    xml_dir=xml_dir,\n",
        "    species_map=SPECIES_TO_LABEL\n",
        ")\n",
        "\n",
        "print(f\"데이터셋 수: {len(pet_dataset)}\")"
      ],
      "metadata": {
        "colab": {
          "base_uri": "https://localhost:8080/"
        },
        "id": "6miRit55KnVA",
        "outputId": "55e63b41-7191-4094-c149-5051df6c5c42"
      },
      "execution_count": 34,
      "outputs": [
        {
          "output_type": "stream",
          "name": "stdout",
          "text": [
            "데이터셋 수: 3680\n"
          ]
        }
      ]
    },
    {
      "cell_type": "code",
      "source": [
        "# @title 바운딩 박스 좌표 변환을 위한 함수 생성\n",
        "\n",
        "def transform_boxes(boxes, original_size, new_size):\n",
        "    orig_width, orig_height = original_size\n",
        "    new_width, new_height = new_size\n",
        "\n",
        "    scale_w = new_width / orig_width\n",
        "    scale_h = new_height / orig_height\n",
        "\n",
        "    transformed_boxes = boxes.clone()\n",
        "\n",
        "    transformed_boxes[:, 0] = boxes[:, 0] * scale_w\n",
        "    transformed_boxes[:, 2] = boxes[:, 2] * scale_w\n",
        "\n",
        "    transformed_boxes[:, 1] = boxes[:, 1] * scale_h\n",
        "    transformed_boxes[:, 3] = boxes[:, 3] * scale_h\n",
        "\n",
        "    return transformed_boxes"
      ],
      "metadata": {
        "id": "nzWuxvXeK7ou"
      },
      "execution_count": 35,
      "outputs": []
    },
    {
      "cell_type": "code",
      "source": [
        "# @title 전처리 및 증강 클래스 정의\n",
        "\n",
        "import torch\n",
        "import cv2\n",
        "import numpy as np\n",
        "\n",
        "class ComposeTransforms:\n",
        "\n",
        "    def __init__(self, target_size=(300, 300)):\n",
        "        self.target_size = target_size\n",
        "\n",
        "    def __call__(self, image, boxes, labels):\n",
        "        original_height, original_width = image.shape[:2]\n",
        "\n",
        "        target_width, target_height = self.target_size\n",
        "\n",
        "        resized_image = cv2.resize(image, self.target_size, interpolation=cv2.INTER_LINEAR)\n",
        "\n",
        "        if boxes.numel() > 0:\n",
        "            orig_size = (original_width, original_height)\n",
        "            new_size = self.target_size\n",
        "            boxes = transform_boxes(boxes, orig_size, new_size)\n",
        "\n",
        "        return resized_image, boxes, labels"
      ],
      "metadata": {
        "id": "-xnB_YzeLEMh"
      },
      "execution_count": 36,
      "outputs": []
    },
    {
      "cell_type": "code",
      "source": [
        "# @title 바운딩 박스 개수와 크기를 배치 내의 데이터 하나로 묶어주는 함수 생성\n",
        "\n",
        "from torch.utils.data import DataLoader\n",
        "\n",
        "def custom_collate_fn(batch):\n",
        "    images = []\n",
        "    targets = []\n",
        "    filenames = []\n",
        "\n",
        "    for img, target, filename in batch:\n",
        "        images.append(img)\n",
        "        targets.append(target)\n",
        "        filenames.append(filename)\n",
        "    images_tensor = torch.stack(images, 0)\n",
        "\n",
        "    return images_tensor, targets, filenames"
      ],
      "metadata": {
        "id": "2U3RGa3rLMjT"
      },
      "execution_count": 37,
      "outputs": []
    },
    {
      "cell_type": "code",
      "source": [
        "# @title 학습용 Dataset 및 DataLoader 생성\n",
        "\n",
        "from torch.utils.data import random_split\n",
        "\n",
        "train_transform = ComposeTransforms(target_size=(300, 300))\n",
        "val_transform = ComposeTransforms(target_size=(300, 300))\n",
        "\n",
        "# 80 대 20 비율로 나눔\n",
        "total_size = len(pet_dataset)\n",
        "train_size = int(0.8 * total_size)\n",
        "val_size = total_size - train_size\n",
        "\n",
        "torch.manual_seed(42)\n",
        "train_dataset, val_dataset = random_split(\n",
        "    pet_dataset, [train_size, val_size]\n",
        ")\n",
        "\n",
        "# 학습용 데이터셋\n",
        "train_df = df_trainval.iloc[train_dataset.indices]\n",
        "train_dataset_with_transform = PetFaceDetectionDataset(\n",
        "    df=train_df,\n",
        "    image_dir=image_dir,\n",
        "    xml_dir=xml_dir,\n",
        "    species_map=SPECIES_TO_LABEL,\n",
        "    transform=train_transform\n",
        ")\n",
        "\n",
        "# 검증용 데이터셋\n",
        "val_df = df_trainval.iloc[val_dataset.indices]\n",
        "val_dataset_with_transform = PetFaceDetectionDataset(\n",
        "    df=val_df,\n",
        "    image_dir=image_dir,\n",
        "    xml_dir=xml_dir,\n",
        "    species_map=SPECIES_TO_LABEL,\n",
        "    transform=val_transform\n",
        ")"
      ],
      "metadata": {
        "id": "zv-oEeDSLbQI"
      },
      "execution_count": 38,
      "outputs": []
    },
    {
      "cell_type": "code",
      "source": [
        "# @title 데이터로더 생성\n",
        "BATCH_SIZE = 8 # 배치 크기 (한 번에 모델에 넣어 학습시킬 데이터의 양)\n",
        "\n",
        "train_loader = DataLoader(\n",
        "    train_dataset_with_transform,\n",
        "    batch_size=BATCH_SIZE,\n",
        "    shuffle=True,\n",
        "    collate_fn=custom_collate_fn,\n",
        "    num_workers=2\n",
        ")\n",
        "\n",
        "val_loader = DataLoader(\n",
        "    val_dataset_with_transform,\n",
        "    batch_size=BATCH_SIZE,\n",
        "    shuffle=False,\n",
        "    collate_fn=custom_collate_fn,\n",
        "    num_workers=2\n",
        ")\n",
        "\n",
        "print(f\"배치 크기: {BATCH_SIZE}\")\n",
        "print(f\"학습 샘플 수: {len(train_dataset_with_transform)}개\")\n",
        "print(f\"검증 샘플 수: {len(val_dataset_with_transform)}개\")"
      ],
      "metadata": {
        "colab": {
          "base_uri": "https://localhost:8080/"
        },
        "id": "MWhuLoSDLv4M",
        "outputId": "7796d4fb-6ec7-49dc-f510-436a7db2dec5"
      },
      "execution_count": 39,
      "outputs": [
        {
          "output_type": "stream",
          "name": "stdout",
          "text": [
            "배치 크기: 8\n",
            "학습 샘플 수: 2944개\n",
            "검증 샘플 수: 736개\n"
          ]
        }
      ]
    },
    {
      "cell_type": "code",
      "source": [
        "# @title SSD 모델 준비\n",
        "\n",
        "import torchvision\n",
        "from torchvision.models.detection.ssd import SSD300_VGG16_Weights\n",
        "\n",
        "model = torchvision.models.detection.ssd300_vgg16(weights=SSD300_VGG16_Weights.DEFAULT).to(device)\n",
        "\n",
        "num_classes = len(classes)\n",
        "model.head.classification_head.num_classes = num_classes"
      ],
      "metadata": {
        "id": "l8QUwWQbMLNY"
      },
      "execution_count": 40,
      "outputs": []
    },
    {
      "cell_type": "code",
      "source": [
        "# @title 옵티마이저설정\n",
        "\n",
        "import torch.optim as optim\n",
        "import torch.nn as nn\n",
        "\n",
        "LEARNING_RATE = 0.001\n",
        "MOMENTUM = 0.9\n",
        "WEIGHT_DECAY = 5e-4\n",
        "\n",
        "optimizer = optim.SGD(\n",
        "    model.parameters(),\n",
        "    lr=LEARNING_RATE,\n",
        "    momentum=MOMENTUM,\n",
        "    weight_decay=WEIGHT_DECAY\n",
        ")\n",
        "\n",
        "scheduler = optim.lr_scheduler.StepLR(\n",
        "    optimizer,\n",
        "    step_size=3,\n",
        "    gamma=0.1\n",
        ")"
      ],
      "metadata": {
        "id": "BjIAR2xjOnTl"
      },
      "execution_count": 42,
      "outputs": []
    },
    {
      "cell_type": "code",
      "source": [
        "# @title 모델 학습 루프\n",
        "\n",
        "from tqdm import tqdm\n",
        "import time\n",
        "import torch\n",
        "\n",
        "NUM_EPOCHS = 10\n",
        "\n",
        "def train_model(model, train_loader, optimizer, scheduler, device, num_epochs):\n",
        "\n",
        "    model.train()\n",
        "\n",
        "    for epoch in range(num_epochs):\n",
        "        start_time = time.time()\n",
        "        total_loss = 0.0\n",
        "\n",
        "        for images, targets, _ in tqdm(train_loader, desc=f\"Epoch {epoch+1}/{num_epochs} [Train]\"):\n",
        "            images = [img.to(device) for img in images]\n",
        "            targets = [{k: v.to(device) for k, v in t.items()} for t in targets]\n",
        "\n",
        "            optimizer.zero_grad()\n",
        "            loss_dict = model(images, targets)\n",
        "            losses = sum(loss for loss in loss_dict.values())\n",
        "\n",
        "            losses.backward()\n",
        "            optimizer.step()\n",
        "            total_loss += losses.item()\n",
        "\n",
        "        scheduler.step()\n",
        "\n",
        "        avg_loss = total_loss / len(train_loader)\n",
        "        end_time = time.time()\n",
        "        current_lr = optimizer.param_groups[0]['lr']\n",
        "\n",
        "        print(f\"Epoch {epoch+1} |  Learning Rate: {current_lr:.6f}\")"
      ],
      "metadata": {
        "id": "sFBHc3FVPd96"
      },
      "execution_count": 43,
      "outputs": []
    },
    {
      "cell_type": "code",
      "source": [
        "# @title torchmetrics 다운로드\n",
        "\n",
        "!pip install torchmetrics"
      ],
      "metadata": {
        "colab": {
          "base_uri": "https://localhost:8080/"
        },
        "id": "gEg7lez1YH40",
        "outputId": "2ab32540-9522-4bb4-bcdd-88e88a705fce"
      },
      "execution_count": 48,
      "outputs": [
        {
          "output_type": "stream",
          "name": "stdout",
          "text": [
            "Collecting torchmetrics\n",
            "  Downloading torchmetrics-1.8.2-py3-none-any.whl.metadata (22 kB)\n",
            "Requirement already satisfied: numpy>1.20.0 in /usr/local/lib/python3.12/dist-packages (from torchmetrics) (2.0.2)\n",
            "Requirement already satisfied: packaging>17.1 in /usr/local/lib/python3.12/dist-packages (from torchmetrics) (25.0)\n",
            "Requirement already satisfied: torch>=2.0.0 in /usr/local/lib/python3.12/dist-packages (from torchmetrics) (2.8.0+cu126)\n",
            "Collecting lightning-utilities>=0.8.0 (from torchmetrics)\n",
            "  Downloading lightning_utilities-0.15.2-py3-none-any.whl.metadata (5.7 kB)\n",
            "Requirement already satisfied: setuptools in /usr/local/lib/python3.12/dist-packages (from lightning-utilities>=0.8.0->torchmetrics) (75.2.0)\n",
            "Requirement already satisfied: typing_extensions in /usr/local/lib/python3.12/dist-packages (from lightning-utilities>=0.8.0->torchmetrics) (4.15.0)\n",
            "Requirement already satisfied: filelock in /usr/local/lib/python3.12/dist-packages (from torch>=2.0.0->torchmetrics) (3.20.0)\n",
            "Requirement already satisfied: sympy>=1.13.3 in /usr/local/lib/python3.12/dist-packages (from torch>=2.0.0->torchmetrics) (1.13.3)\n",
            "Requirement already satisfied: networkx in /usr/local/lib/python3.12/dist-packages (from torch>=2.0.0->torchmetrics) (3.5)\n",
            "Requirement already satisfied: jinja2 in /usr/local/lib/python3.12/dist-packages (from torch>=2.0.0->torchmetrics) (3.1.6)\n",
            "Requirement already satisfied: fsspec in /usr/local/lib/python3.12/dist-packages (from torch>=2.0.0->torchmetrics) (2025.3.0)\n",
            "Requirement already satisfied: nvidia-cuda-nvrtc-cu12==12.6.77 in /usr/local/lib/python3.12/dist-packages (from torch>=2.0.0->torchmetrics) (12.6.77)\n",
            "Requirement already satisfied: nvidia-cuda-runtime-cu12==12.6.77 in /usr/local/lib/python3.12/dist-packages (from torch>=2.0.0->torchmetrics) (12.6.77)\n",
            "Requirement already satisfied: nvidia-cuda-cupti-cu12==12.6.80 in /usr/local/lib/python3.12/dist-packages (from torch>=2.0.0->torchmetrics) (12.6.80)\n",
            "Requirement already satisfied: nvidia-cudnn-cu12==9.10.2.21 in /usr/local/lib/python3.12/dist-packages (from torch>=2.0.0->torchmetrics) (9.10.2.21)\n",
            "Requirement already satisfied: nvidia-cublas-cu12==12.6.4.1 in /usr/local/lib/python3.12/dist-packages (from torch>=2.0.0->torchmetrics) (12.6.4.1)\n",
            "Requirement already satisfied: nvidia-cufft-cu12==11.3.0.4 in /usr/local/lib/python3.12/dist-packages (from torch>=2.0.0->torchmetrics) (11.3.0.4)\n",
            "Requirement already satisfied: nvidia-curand-cu12==10.3.7.77 in /usr/local/lib/python3.12/dist-packages (from torch>=2.0.0->torchmetrics) (10.3.7.77)\n",
            "Requirement already satisfied: nvidia-cusolver-cu12==11.7.1.2 in /usr/local/lib/python3.12/dist-packages (from torch>=2.0.0->torchmetrics) (11.7.1.2)\n",
            "Requirement already satisfied: nvidia-cusparse-cu12==12.5.4.2 in /usr/local/lib/python3.12/dist-packages (from torch>=2.0.0->torchmetrics) (12.5.4.2)\n",
            "Requirement already satisfied: nvidia-cusparselt-cu12==0.7.1 in /usr/local/lib/python3.12/dist-packages (from torch>=2.0.0->torchmetrics) (0.7.1)\n",
            "Requirement already satisfied: nvidia-nccl-cu12==2.27.3 in /usr/local/lib/python3.12/dist-packages (from torch>=2.0.0->torchmetrics) (2.27.3)\n",
            "Requirement already satisfied: nvidia-nvtx-cu12==12.6.77 in /usr/local/lib/python3.12/dist-packages (from torch>=2.0.0->torchmetrics) (12.6.77)\n",
            "Requirement already satisfied: nvidia-nvjitlink-cu12==12.6.85 in /usr/local/lib/python3.12/dist-packages (from torch>=2.0.0->torchmetrics) (12.6.85)\n",
            "Requirement already satisfied: nvidia-cufile-cu12==1.11.1.6 in /usr/local/lib/python3.12/dist-packages (from torch>=2.0.0->torchmetrics) (1.11.1.6)\n",
            "Requirement already satisfied: triton==3.4.0 in /usr/local/lib/python3.12/dist-packages (from torch>=2.0.0->torchmetrics) (3.4.0)\n",
            "Requirement already satisfied: mpmath<1.4,>=1.1.0 in /usr/local/lib/python3.12/dist-packages (from sympy>=1.13.3->torch>=2.0.0->torchmetrics) (1.3.0)\n",
            "Requirement already satisfied: MarkupSafe>=2.0 in /usr/local/lib/python3.12/dist-packages (from jinja2->torch>=2.0.0->torchmetrics) (3.0.3)\n",
            "Downloading torchmetrics-1.8.2-py3-none-any.whl (983 kB)\n",
            "\u001b[2K   \u001b[90m━━━━━━━━━━━━━━━━━━━━━━━━━━━━━━━━━━━━━━━━\u001b[0m \u001b[32m983.2/983.2 kB\u001b[0m \u001b[31m14.5 MB/s\u001b[0m eta \u001b[36m0:00:00\u001b[0m\n",
            "\u001b[?25hDownloading lightning_utilities-0.15.2-py3-none-any.whl (29 kB)\n",
            "Installing collected packages: lightning-utilities, torchmetrics\n",
            "Successfully installed lightning-utilities-0.15.2 torchmetrics-1.8.2\n"
          ]
        }
      ]
    },
    {
      "cell_type": "code",
      "source": [
        "# @title 모델 평가 성능지표 정의\n",
        "\n",
        "import torch\n",
        "import torchmetrics\n",
        "\n",
        "def validate_model(model, val_loader, device, num_classes):\n",
        "\n",
        "    model.eval()\n",
        "    metric = torchmetrics.detection.MeanAveragePrecision(\n",
        "        iou_thresholds=[0.5, 0.75],\n",
        "        max_detection_thresholds=[1, 10, 100],\n",
        "        class_metrics=True,\n",
        "        num_classes=num_classes,\n",
        "        box_format='xyxy'\n",
        "    ).to(device)\n",
        "\n",
        "    with torch.no_grad():\n",
        "        for images, targets, _ in tqdm(val_loader, desc=\"Validation\"):\n",
        "\n",
        "            images = [img.to(device) for img in images]\n",
        "            targets = [{k: v.to(device) for k, v in t.items()} for t in targets]\n",
        "\n",
        "            predictions = model(images)\n",
        "\n",
        "            metric.update(predictions, targets)\n",
        "\n",
        "    results = metric.compute()\n",
        "    model.train()\n",
        "\n",
        "    return results"
      ],
      "metadata": {
        "id": "3EZLEPpEQPok"
      },
      "execution_count": 49,
      "outputs": []
    }
  ]
}