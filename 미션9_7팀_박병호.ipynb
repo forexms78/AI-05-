{
  "nbformat": 4,
  "nbformat_minor": 0,
  "metadata": {
    "colab": {
      "provenance": [],
      "machine_shape": "hm",
      "gpuType": "A100",
      "authorship_tag": "ABX9TyMsny3pRuOzdhcYond4zt7n",
      "include_colab_link": true
    },
    "kernelspec": {
      "name": "python3",
      "display_name": "Python 3"
    },
    "language_info": {
      "name": "python"
    },
    "accelerator": "GPU"
  },
  "cells": [
    {
      "cell_type": "markdown",
      "metadata": {
        "id": "view-in-github",
        "colab_type": "text"
      },
      "source": [
        "<a href=\"https://colab.research.google.com/github/forexms78/AI-05-/blob/main/%EB%AF%B8%EC%85%989_7%ED%8C%80_%EB%B0%95%EB%B3%91%ED%98%B8.ipynb\" target=\"_parent\"><img src=\"https://colab.research.google.com/assets/colab-badge.svg\" alt=\"Open In Colab\"/></a>"
      ]
    },
    {
      "cell_type": "markdown",
      "source": [
        "# 모델을 활용하여 FashionMNIST 데이터셋을 조건부로 생성하는 작업을 수행\n",
        "#cGAN (Conditional GAN) 모델"
      ],
      "metadata": {
        "id": "Ta29LSV03lVU"
      }
    },
    {
      "cell_type": "code",
      "source": [
        "#@title 라이브러리\n",
        "\n",
        "import torch\n",
        "import torch.nn as nn\n",
        "import torch.optim as optim\n",
        "import torchvision\n",
        "import torchvision.transforms as transforms\n",
        "import torchvision.utils as vutils\n",
        "import matplotlib.pyplot as plt\n",
        "import numpy as np\n",
        "import random"
      ],
      "metadata": {
        "id": "HPQ5Qipq32jk"
      },
      "execution_count": 1,
      "outputs": []
    },
    {
      "cell_type": "code",
      "source": [
        "#@title Device 설정\n",
        "\n",
        "device = torch.device(\"cuda\" if torch.cuda.is_available() else \"cpu\")\n",
        "print(\"Using device:\", device)"
      ],
      "metadata": {
        "colab": {
          "base_uri": "https://localhost:8080/"
        },
        "id": "b8SWueaF37c1",
        "outputId": "9398616b-c461-4a58-a44a-d077384dceae"
      },
      "execution_count": 2,
      "outputs": [
        {
          "output_type": "stream",
          "name": "stdout",
          "text": [
            "Using device: cuda\n"
          ]
        }
      ]
    },
    {
      "cell_type": "code",
      "source": [
        "# @title 드라이브 연결\n",
        "\n",
        "from google.colab import drive\n",
        "drive.mount('/content/drive')\n",
        "g_path = '/content/drive/MyDrive/Colab Notebooks/data'"
      ],
      "metadata": {
        "colab": {
          "base_uri": "https://localhost:8080/"
        },
        "id": "aYQuNwvq3-hN",
        "outputId": "e43fd8ad-cfcb-4e8e-bbac-99e6e3cbcd7b"
      },
      "execution_count": 4,
      "outputs": [
        {
          "output_type": "stream",
          "name": "stdout",
          "text": [
            "Drive already mounted at /content/drive; to attempt to forcibly remount, call drive.mount(\"/content/drive\", force_remount=True).\n"
          ]
        }
      ]
    },
    {
      "cell_type": "code",
      "source": [
        "#@title 일정한 결과값 확인을 위한 seed 설정\n",
        "seed = 42\n",
        "torch.manual_seed(seed)\n",
        "torch.cuda.manual_seed_all(seed)\n",
        "random.seed(seed)\n",
        "np.random.seed(seed)"
      ],
      "metadata": {
        "id": "VqiAGxyV0ay8"
      },
      "execution_count": 5,
      "outputs": []
    },
    {
      "cell_type": "code",
      "source": [
        "#@title 하이퍼파라미터 및 환경 설정\n",
        "\n",
        "image_size = 28\n",
        "num_classes = 10\n",
        "latent_dim = 100\n",
        "batch_size = 64\n",
        "num_epochs = 200\n",
        "lr = 0.0002\n",
        "beta1 = 0.5\n",
        "beta2 = 0.999"
      ],
      "metadata": {
        "id": "bS4smmV64pt9"
      },
      "execution_count": 6,
      "outputs": []
    },
    {
      "cell_type": "code",
      "source": [
        "#@title Transform 설정\n",
        "\n",
        "# 학습용 데이터 증강 transform\n",
        "train_transforms = transforms.Compose([\n",
        "    transforms.RandomHorizontalFlip(p=0.2),          # 20% 확률로 좌우 반전\n",
        "    transforms.RandomRotation(10),                     # ±10도 범위 내에서 랜덤 회전\n",
        "    transforms.RandomAffine(degrees=0, translate=(0.1, 0.1)),  # 최대 10% 이동\n",
        "    transforms.RandomResizedCrop(28, scale=(0.8, 1.0), ratio=(0.9, 1.1)),  # 랜덤 크롭 후 28x28로 리사이즈\n",
        "    transforms.ToTensor(),\n",
        "    transforms.Normalize((0.5,), (0.5,))\n",
        "])\n",
        "\n",
        "# 평가용 transform (증강 없이 정규화만)\n",
        "test_transforms = transforms.Compose([\n",
        "    transforms.ToTensor(),\n",
        "    transforms.Normalize((0.5,), (0.5,))\n",
        "])\n"
      ],
      "metadata": {
        "id": "vjdhMzuB4yly"
      },
      "execution_count": 8,
      "outputs": []
    },
    {
      "cell_type": "code",
      "source": [
        "#@title 데이터 셋, 데이터 로더\n",
        "train_dataset = torchvision.datasets.FashionMNIST(root='./data', train=True, download=True, transform=train_transforms)\n",
        "test_dataset  = torchvision.datasets.FashionMNIST(root='./data', train=False, download=True, transform=test_transforms)\n",
        "train_loader = torch.utils.data.DataLoader(train_dataset, batch_size=batch_size, shuffle=True)\n",
        "test_loader  = torch.utils.data.DataLoader(test_dataset, batch_size=batch_size, shuffle=False)\n"
      ],
      "metadata": {
        "colab": {
          "base_uri": "https://localhost:8080/"
        },
        "id": "NnVVFIRe40-I",
        "outputId": "fb24098d-7c51-4cf4-db29-80b8a26e98e9"
      },
      "execution_count": 9,
      "outputs": [
        {
          "output_type": "stream",
          "name": "stderr",
          "text": [
            "100%|██████████| 26.4M/26.4M [00:00<00:00, 113MB/s]\n",
            "100%|██████████| 29.5k/29.5k [00:00<00:00, 3.95MB/s]\n",
            "100%|██████████| 4.42M/4.42M [00:00<00:00, 53.5MB/s]\n",
            "100%|██████████| 5.15k/5.15k [00:00<00:00, 20.8MB/s]\n"
          ]
        }
      ]
    },
    {
      "cell_type": "code",
      "source": [
        "#@title 클래스 이름 설정 (FashionMNIST 클래스)\n",
        "\n",
        "idx_to_class = {i: class_name for i, class_name in enumerate(train_dataset.classes)}\n",
        "print(\"FashionMNIST classes:\", idx_to_class)"
      ],
      "metadata": {
        "colab": {
          "base_uri": "https://localhost:8080/"
        },
        "id": "oUKiFC0E484a",
        "outputId": "58035f31-deae-47dc-b695-dcd5ef202cbc"
      },
      "execution_count": 10,
      "outputs": [
        {
          "output_type": "stream",
          "name": "stdout",
          "text": [
            "FashionMNIST classes: {0: 'T-shirt/top', 1: 'Trouser', 2: 'Pullover', 3: 'Dress', 4: 'Coat', 5: 'Sandal', 6: 'Shirt', 7: 'Sneaker', 8: 'Bag', 9: 'Ankle boot'}\n"
          ]
        }
      ]
    }
  ]
}