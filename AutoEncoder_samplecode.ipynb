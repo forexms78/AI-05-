{
  "nbformat": 4,
  "nbformat_minor": 0,
  "metadata": {
    "colab": {
      "provenance": [],
      "authorship_tag": "ABX9TyNrWxPshqZz3TkwIA/3ZHr8",
      "include_colab_link": true
    },
    "kernelspec": {
      "name": "python3",
      "display_name": "Python 3"
    },
    "language_info": {
      "name": "python"
    }
  },
  "cells": [
    {
      "cell_type": "markdown",
      "metadata": {
        "id": "view-in-github",
        "colab_type": "text"
      },
      "source": [
        "<a href=\"https://colab.research.google.com/github/forexms78/AI-05-/blob/main/AutoEncoder_samplecode.ipynb\" target=\"_parent\"><img src=\"https://colab.research.google.com/assets/colab-badge.svg\" alt=\"Open In Colab\"/></a>"
      ]
    },
    {
      "cell_type": "code",
      "execution_count": 10,
      "metadata": {
        "id": "m-bo0HPsqlt3"
      },
      "outputs": [],
      "source": [
        "import torch\n",
        "import torch.nn as nn\n",
        "import torch.optim as opt\n",
        "import torchvision\n",
        "import torchvision.transforms as transforms"
      ]
    },
    {
      "cell_type": "code",
      "source": [
        "device = torch.device('cuda' if torch.cuda.is_available() else 'cpu')\n",
        "print(f\"device : {device}\")"
      ],
      "metadata": {
        "colab": {
          "base_uri": "https://localhost:8080/"
        },
        "id": "dauMijearPDT",
        "outputId": "1e7c0713-5b8a-445c-e933-d24fcfb1c899"
      },
      "execution_count": 11,
      "outputs": [
        {
          "output_type": "stream",
          "name": "stdout",
          "text": [
            "device : cpu\n"
          ]
        }
      ]
    },
    {
      "cell_type": "code",
      "source": [
        "trainset = torchvision.datasets.MNIST(root='data',\n",
        "                                      train=True,\n",
        "                                      transform=transforms.ToTensor(),\n",
        "                                      download=True)\n",
        "\n",
        "testset = torchvision.datasets.MNIST(root='data',\n",
        "                                     train=False,\n",
        "                                     transform=transforms.ToTensor(),\n",
        "                                     download=True)\n",
        "\n",
        "trainloader = torch.utils.data.DataLoader(trainset,batch_size=64, shuffle=True)\n",
        "testloader = torch.utils.data.DataLoader(testset,batch_size=64, shuffle=False)\n"
      ],
      "metadata": {
        "id": "g5_MM89rrcc7"
      },
      "execution_count": 17,
      "outputs": []
    },
    {
      "cell_type": "code",
      "source": [
        "# Encoder : Dense(784 -> 128), Dense(128 -> 64), Dense(64 -> 32)\n",
        "# Decoder : Dense(32 -> 64), Dense(64 -> 128), Dense(128 -> 784)\n",
        "\n",
        "class AE(nn.Module):\n",
        "    def __init__(self):\n",
        "        super(AE, self).__init__()\n",
        "        # Encoder\n",
        "        self.encoder = nn.Sequential(\n",
        "            nn.Linear(784, 128),\n",
        "            nn.ReLU(),\n",
        "            nn.Linear(128, 64),\n",
        "            nn.ReLU(),\n",
        "            nn.Linear(64, 32)\n",
        "        )\n",
        "        # Decoder\n",
        "        self.decoder = nn.Sequential(\n",
        "            nn.Linear(32, 64),\n",
        "            nn.ReLU(),\n",
        "            nn.Linear(64, 128),\n",
        "            nn.ReLU(),\n",
        "            nn.Linear(128, 784)\n",
        "        )\n",
        "    def forward(self, x):\n",
        "        encoded = self.encoder(x)\n",
        "        decoded = self.decoder(encoded)\n",
        "\n",
        "        return decoded, encoded\n"
      ],
      "metadata": {
        "id": "r4P6apKTsO0C"
      },
      "execution_count": 18,
      "outputs": []
    },
    {
      "cell_type": "code",
      "source": [
        "model = AE()\n",
        "print(model)"
      ],
      "metadata": {
        "colab": {
          "base_uri": "https://localhost:8080/"
        },
        "id": "OiyO62rNyzjy",
        "outputId": "17d61752-0159-487b-9234-58be46e11935"
      },
      "execution_count": 19,
      "outputs": [
        {
          "output_type": "stream",
          "name": "stdout",
          "text": [
            "AE(\n",
            "  (encoder): Sequential(\n",
            "    (0): Linear(in_features=784, out_features=128, bias=True)\n",
            "    (1): ReLU()\n",
            "    (2): Linear(in_features=128, out_features=64, bias=True)\n",
            "    (3): ReLU()\n",
            "    (4): Linear(in_features=64, out_features=32, bias=True)\n",
            "  )\n",
            "  (decoder): Sequential(\n",
            "    (0): Linear(in_features=32, out_features=64, bias=True)\n",
            "    (1): ReLU()\n",
            "    (2): Linear(in_features=64, out_features=128, bias=True)\n",
            "    (3): ReLU()\n",
            "    (4): Linear(in_features=128, out_features=784, bias=True)\n",
            "  )\n",
            ")\n"
          ]
        }
      ]
    },
    {
      "cell_type": "code",
      "source": [
        "loss_fn = nn.MSELoss()\n",
        "optim = opt.Adam(model.parameters(), lr=0.001)\n",
        "\n",
        "# Training\n",
        "epochs = 10\n",
        "\n",
        "for epoch in range(epochs):\n",
        "    for data in trainloader:\n",
        "        inputs, _ = data\n",
        "        inputs = inputs.view(inputs.size(0), -1)\n",
        "\n",
        "        optim.zero_grad()\n",
        "\n",
        "        outputs, _ = model(inputs)\n",
        "        loss = loss_fn(outputs, inputs)\n",
        "\n",
        "        loss.backward()\n",
        "        optim.step()\n",
        "\n",
        "    print(f\"epoch : {epoch}, loss : {loss}\")\n",
        "print(\"finish\")"
      ],
      "metadata": {
        "colab": {
          "base_uri": "https://localhost:8080/"
        },
        "id": "7XqL9R1G0EI9",
        "outputId": "a8eff51e-090b-443c-9a02-87b288a53a57"
      },
      "execution_count": 20,
      "outputs": [
        {
          "output_type": "stream",
          "name": "stdout",
          "text": [
            "epoch : 0, loss : 0.022313136607408524\n",
            "epoch : 1, loss : 0.016836239024996758\n",
            "epoch : 2, loss : 0.017968159168958664\n",
            "epoch : 3, loss : 0.01568671315908432\n",
            "epoch : 4, loss : 0.015186531469225883\n",
            "epoch : 5, loss : 0.014794282615184784\n",
            "epoch : 6, loss : 0.014669000171124935\n",
            "epoch : 7, loss : 0.01414809376001358\n",
            "epoch : 8, loss : 0.01453017070889473\n",
            "epoch : 9, loss : 0.013573884032666683\n",
            "finish\n"
          ]
        }
      ]
    },
    {
      "cell_type": "code",
      "source": [
        "import matplotlib.pyplot as plt\n",
        "import numpy as np\n",
        "\n",
        "images, labels = next(iter(testloader))\n",
        "\n",
        "images_flat = images.view(images.size(0), -1)\n",
        "\n",
        "recon_images_flat, encoded = model(images_flat)\n",
        "recon_images = recon_images_flat.view(images.size())\n",
        "\n",
        "n_imgs = 10\n",
        "plt.figure(figsize=(20,4))\n",
        "for i in range(n_imgs):\n",
        "  ax = plt.subplot(2, n_imgs, i+1)\n",
        "  plt.imshow(np.transpose(images[i].numpy()))"
      ],
      "metadata": {
        "collapsed": true,
        "id": "eH1QrmfN33Hc"
      },
      "execution_count": 22,
      "outputs": []
    },
    {
      "cell_type": "code",
      "source": [
        "print(images.size())\n",
        "print(recon_images_flat.size())\n",
        "print(recon_images.size())"
      ],
      "metadata": {
        "colab": {
          "base_uri": "https://localhost:8080/"
        },
        "id": "IT773N5r5Hrd",
        "outputId": "fc4da476-1cf8-4c15-b37a-69d6f7932fbd"
      },
      "execution_count": 23,
      "outputs": [
        {
          "output_type": "stream",
          "name": "stdout",
          "text": [
            "torch.Size([64, 1, 28, 28])\n",
            "torch.Size([64, 784])\n",
            "torch.Size([64, 1, 28, 28])\n"
          ]
        }
      ]
    }
  ]
}